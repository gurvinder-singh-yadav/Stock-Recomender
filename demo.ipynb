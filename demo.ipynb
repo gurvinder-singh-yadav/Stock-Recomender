{
 "cells": [
  {
   "cell_type": "code",
   "execution_count": 9,
   "metadata": {},
   "outputs": [],
   "source": [
    "import pandas as pd\n",
    "import altair as alt"
   ]
  },
  {
   "cell_type": "code",
   "execution_count": 19,
   "metadata": {},
   "outputs": [],
   "source": [
    "def get_stock_volume(name:str, n:int = 20):\n",
    "    df = pd.read_csv(\"data/{}/funds.csv\".format(name), nrows=100)\n",
    "    df = df[[\"Name\", \"Assets(Rs_Cr.)\"]]\n",
    "    df = df.groupby(\"Name\").aggregate(sum).reset_index()\n",
    "    df = df[[\"Name\", \"Assets(Rs_Cr.)\"]].sort_values(by = \"Assets(Rs_Cr.)\", ascending=False)\n",
    "    df.set_index(\"Name\")\n",
    "    df.columns = [\"Stock Name\", \"Amount\"]\n",
    "    df[\"Amount\"] = df[\"Amount\"].astype(float)\n",
    "    # print(df.head())\n",
    "    return df.head(15)"
   ]
  },
  {
   "cell_type": "code",
   "execution_count": 20,
   "metadata": {},
   "outputs": [],
   "source": [
    "data = get_stock_volume(\"grow\")"
   ]
  },
  {
   "cell_type": "code",
   "execution_count": 21,
   "metadata": {},
   "outputs": [
    {
     "data": {
      "text/html": [
       "<div>\n",
       "<style scoped>\n",
       "    .dataframe tbody tr th:only-of-type {\n",
       "        vertical-align: middle;\n",
       "    }\n",
       "\n",
       "    .dataframe tbody tr th {\n",
       "        vertical-align: top;\n",
       "    }\n",
       "\n",
       "    .dataframe thead th {\n",
       "        text-align: right;\n",
       "    }\n",
       "</style>\n",
       "<table border=\"1\" class=\"dataframe\">\n",
       "  <thead>\n",
       "    <tr style=\"text-align: right;\">\n",
       "      <th></th>\n",
       "      <th>Stock Name</th>\n",
       "      <th>Amount</th>\n",
       "    </tr>\n",
       "  </thead>\n",
       "  <tbody>\n",
       "    <tr>\n",
       "      <th>59</th>\n",
       "      <td>Sun Pharmaceutical Industries Ltd.</td>\n",
       "      <td>220568.836</td>\n",
       "    </tr>\n",
       "    <tr>\n",
       "      <th>48</th>\n",
       "      <td>NTPC Ltd.</td>\n",
       "      <td>206121.408</td>\n",
       "    </tr>\n",
       "    <tr>\n",
       "      <th>30</th>\n",
       "      <td>Infosys Ltd.</td>\n",
       "      <td>159308.888</td>\n",
       "    </tr>\n",
       "    <tr>\n",
       "      <th>9</th>\n",
       "      <td>Bharti Airtel Ltd.</td>\n",
       "      <td>150300.397</td>\n",
       "    </tr>\n",
       "    <tr>\n",
       "      <th>27</th>\n",
       "      <td>Housing Development Finance Corporation Ltd.</td>\n",
       "      <td>125468.550</td>\n",
       "    </tr>\n",
       "    <tr>\n",
       "      <th>54</th>\n",
       "      <td>Reliance Industries Ltd.</td>\n",
       "      <td>117359.774</td>\n",
       "    </tr>\n",
       "    <tr>\n",
       "      <th>58</th>\n",
       "      <td>State Bank of India</td>\n",
       "      <td>97382.322</td>\n",
       "    </tr>\n",
       "    <tr>\n",
       "      <th>23</th>\n",
       "      <td>HDFC Bank Ltd.</td>\n",
       "      <td>88618.830</td>\n",
       "    </tr>\n",
       "    <tr>\n",
       "      <th>40</th>\n",
       "      <td>Larsen &amp; Toubro Ltd.</td>\n",
       "      <td>51967.770</td>\n",
       "    </tr>\n",
       "    <tr>\n",
       "      <th>29</th>\n",
       "      <td>ITC Ltd.</td>\n",
       "      <td>49819.068</td>\n",
       "    </tr>\n",
       "    <tr>\n",
       "      <th>25</th>\n",
       "      <td>Hindalco Industries Ltd.</td>\n",
       "      <td>44283.616</td>\n",
       "    </tr>\n",
       "    <tr>\n",
       "      <th>55</th>\n",
       "      <td>SBI Life Insurance Company Ltd.</td>\n",
       "      <td>43434.372</td>\n",
       "    </tr>\n",
       "    <tr>\n",
       "      <th>63</th>\n",
       "      <td>TVS Motor Company Ltd.</td>\n",
       "      <td>40823.354</td>\n",
       "    </tr>\n",
       "    <tr>\n",
       "      <th>67</th>\n",
       "      <td>Tata Motors Ltd. - DVR Ordinary</td>\n",
       "      <td>38748.164</td>\n",
       "    </tr>\n",
       "    <tr>\n",
       "      <th>38</th>\n",
       "      <td>LIC Housing Finance Ltd.</td>\n",
       "      <td>38748.164</td>\n",
       "    </tr>\n",
       "  </tbody>\n",
       "</table>\n",
       "</div>"
      ],
      "text/plain": [
       "                                      Stock Name      Amount\n",
       "59            Sun Pharmaceutical Industries Ltd.  220568.836\n",
       "48                                     NTPC Ltd.  206121.408\n",
       "30                                  Infosys Ltd.  159308.888\n",
       "9                             Bharti Airtel Ltd.  150300.397\n",
       "27  Housing Development Finance Corporation Ltd.  125468.550\n",
       "54                      Reliance Industries Ltd.  117359.774\n",
       "58                           State Bank of India   97382.322\n",
       "23                                HDFC Bank Ltd.   88618.830\n",
       "40                          Larsen & Toubro Ltd.   51967.770\n",
       "29                                      ITC Ltd.   49819.068\n",
       "25                      Hindalco Industries Ltd.   44283.616\n",
       "55               SBI Life Insurance Company Ltd.   43434.372\n",
       "63                        TVS Motor Company Ltd.   40823.354\n",
       "67               Tata Motors Ltd. - DVR Ordinary   38748.164\n",
       "38                      LIC Housing Finance Ltd.   38748.164"
      ]
     },
     "execution_count": 21,
     "metadata": {},
     "output_type": "execute_result"
    }
   ],
   "source": [
    "data"
   ]
  },
  {
   "cell_type": "code",
   "execution_count": 27,
   "metadata": {},
   "outputs": [
    {
     "data": {
      "text/html": [
       "\n",
       "<div id=\"altair-viz-33f4a17ff0dd4d019c26615fca5e73b8\"></div>\n",
       "<script type=\"text/javascript\">\n",
       "  (function(spec, embedOpt){\n",
       "    let outputDiv = document.currentScript.previousElementSibling;\n",
       "    if (outputDiv.id !== \"altair-viz-33f4a17ff0dd4d019c26615fca5e73b8\") {\n",
       "      outputDiv = document.getElementById(\"altair-viz-33f4a17ff0dd4d019c26615fca5e73b8\");\n",
       "    }\n",
       "    const paths = {\n",
       "      \"vega\": \"https://cdn.jsdelivr.net/npm//vega@5?noext\",\n",
       "      \"vega-lib\": \"https://cdn.jsdelivr.net/npm//vega-lib?noext\",\n",
       "      \"vega-lite\": \"https://cdn.jsdelivr.net/npm//vega-lite@4.8.1?noext\",\n",
       "      \"vega-embed\": \"https://cdn.jsdelivr.net/npm//vega-embed@6?noext\",\n",
       "    };\n",
       "\n",
       "    function loadScript(lib) {\n",
       "      return new Promise(function(resolve, reject) {\n",
       "        var s = document.createElement('script');\n",
       "        s.src = paths[lib];\n",
       "        s.async = true;\n",
       "        s.onload = () => resolve(paths[lib]);\n",
       "        s.onerror = () => reject(`Error loading script: ${paths[lib]}`);\n",
       "        document.getElementsByTagName(\"head\")[0].appendChild(s);\n",
       "      });\n",
       "    }\n",
       "\n",
       "    function showError(err) {\n",
       "      outputDiv.innerHTML = `<div class=\"error\" style=\"color:red;\">${err}</div>`;\n",
       "      throw err;\n",
       "    }\n",
       "\n",
       "    function displayChart(vegaEmbed) {\n",
       "      vegaEmbed(outputDiv, spec, embedOpt)\n",
       "        .catch(err => showError(`Javascript Error: ${err.message}<br>This usually means there's a typo in your chart specification. See the javascript console for the full traceback.`));\n",
       "    }\n",
       "\n",
       "    if(typeof define === \"function\" && define.amd) {\n",
       "      requirejs.config({paths});\n",
       "      require([\"vega-embed\"], displayChart, err => showError(`Error loading script: ${err.message}`));\n",
       "    } else if (typeof vegaEmbed === \"function\") {\n",
       "      displayChart(vegaEmbed);\n",
       "    } else {\n",
       "      loadScript(\"vega\")\n",
       "        .then(() => loadScript(\"vega-lite\"))\n",
       "        .then(() => loadScript(\"vega-embed\"))\n",
       "        .catch(showError)\n",
       "        .then(() => displayChart(vegaEmbed));\n",
       "    }\n",
       "  })({\"config\": {\"view\": {\"continuousWidth\": 400, \"continuousHeight\": 300}}, \"data\": {\"name\": \"data-958e6d8e62c8ae6ace4e6a25826c22d2\"}, \"mark\": \"bar\", \"encoding\": {\"text\": {\"type\": \"nominal\", \"field\": \"Stock Name\"}, \"x\": {\"type\": \"nominal\", \"field\": \"Stock Name\"}, \"y\": {\"type\": \"quantitative\", \"field\": \"Amount\"}}, \"$schema\": \"https://vega.github.io/schema/vega-lite/v4.8.1.json\", \"datasets\": {\"data-958e6d8e62c8ae6ace4e6a25826c22d2\": [{\"Stock Name\": \"Sun Pharmaceutical Industries Ltd.\", \"Amount\": 220568.83599999998}, {\"Stock Name\": \"NTPC Ltd.\", \"Amount\": 206121.408}, {\"Stock Name\": \"Infosys Ltd.\", \"Amount\": 159308.88799999998}, {\"Stock Name\": \"Bharti Airtel Ltd.\", \"Amount\": 150300.39699999997}, {\"Stock Name\": \"Housing Development Finance Corporation Ltd.\", \"Amount\": 125468.54999999999}, {\"Stock Name\": \"Reliance Industries Ltd.\", \"Amount\": 117359.774}, {\"Stock Name\": \"State Bank of India\", \"Amount\": 97382.32199999999}, {\"Stock Name\": \"HDFC Bank Ltd.\", \"Amount\": 88618.83}, {\"Stock Name\": \"Larsen & Toubro Ltd.\", \"Amount\": 51967.770000000004}, {\"Stock Name\": \"ITC Ltd.\", \"Amount\": 49819.068}, {\"Stock Name\": \"Hindalco Industries Ltd.\", \"Amount\": 44283.616}, {\"Stock Name\": \"SBI Life Insurance Company Ltd.\", \"Amount\": 43434.371999999996}, {\"Stock Name\": \"TVS Motor Company Ltd.\", \"Amount\": 40823.354}, {\"Stock Name\": \"Tata Motors Ltd. - DVR Ordinary\", \"Amount\": 38748.164}, {\"Stock Name\": \"LIC Housing Finance Ltd.\", \"Amount\": 38748.164}]}}, {\"mode\": \"vega-lite\"});\n",
       "</script>"
      ],
      "text/plain": [
       "alt.Chart(...)"
      ]
     },
     "execution_count": 27,
     "metadata": {},
     "output_type": "execute_result"
    }
   ],
   "source": [
    "base = alt.Chart(data).mark_bar().encode(\n",
    "    x=\"Stock Name:N\",\n",
    "    y=\"Amount:Q\",\n",
    "    text = \"Stock Name:N\"\n",
    ")\n",
    "base"
   ]
  },
  {
   "cell_type": "code",
   "execution_count": null,
   "metadata": {},
   "outputs": [],
   "source": []
  },
  {
   "cell_type": "code",
   "execution_count": null,
   "metadata": {},
   "outputs": [],
   "source": []
  },
  {
   "cell_type": "code",
   "execution_count": null,
   "metadata": {},
   "outputs": [],
   "source": []
  }
 ],
 "metadata": {
  "kernelspec": {
   "display_name": "mutual-fund",
   "language": "python",
   "name": "python3"
  },
  "language_info": {
   "codemirror_mode": {
    "name": "ipython",
    "version": 3
   },
   "file_extension": ".py",
   "mimetype": "text/x-python",
   "name": "python",
   "nbconvert_exporter": "python",
   "pygments_lexer": "ipython3",
   "version": "3.9.16"
  },
  "orig_nbformat": 4
 },
 "nbformat": 4,
 "nbformat_minor": 2
}
