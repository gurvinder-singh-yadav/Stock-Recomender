{
 "cells": [
  {
   "cell_type": "code",
   "execution_count": 1,
   "metadata": {},
   "outputs": [],
   "source": [
    "import pandas as pd\n",
    "import altair as alt"
   ]
  },
  {
   "cell_type": "code",
   "execution_count": 2,
   "metadata": {},
   "outputs": [],
   "source": [
    "df = pd.read_csv(\"data/tick/2023-05-04/funds/Ticker.csv\")"
   ]
  },
  {
   "cell_type": "code",
   "execution_count": 3,
   "metadata": {},
   "outputs": [
    {
     "data": {
      "text/html": [
       "<div>\n",
       "<style scoped>\n",
       "    .dataframe tbody tr th:only-of-type {\n",
       "        vertical-align: middle;\n",
       "    }\n",
       "\n",
       "    .dataframe tbody tr th {\n",
       "        vertical-align: top;\n",
       "    }\n",
       "\n",
       "    .dataframe thead th {\n",
       "        text-align: right;\n",
       "    }\n",
       "</style>\n",
       "<table border=\"1\" class=\"dataframe\">\n",
       "  <thead>\n",
       "    <tr style=\"text-align: right;\">\n",
       "      <th></th>\n",
       "      <th>S.No.</th>\n",
       "      <th>Stock Name</th>\n",
       "      <th>_</th>\n",
       "      <th>q1</th>\n",
       "      <th>q2</th>\n",
       "      <th>q3</th>\n",
       "      <th>q4</th>\n",
       "      <th>q5</th>\n",
       "      <th>Value</th>\n",
       "    </tr>\n",
       "  </thead>\n",
       "  <tbody>\n",
       "    <tr>\n",
       "      <th>0</th>\n",
       "      <td>1</td>\n",
       "      <td>ADF Foods Ltd.</td>\n",
       "      <td>1.58</td>\n",
       "      <td>1.51</td>\n",
       "      <td>-</td>\n",
       "      <td>1.51</td>\n",
       "      <td>1.51</td>\n",
       "      <td>25.55</td>\n",
       "      <td>abakkus-fund-sunil-singhania</td>\n",
       "    </tr>\n",
       "    <tr>\n",
       "      <th>1</th>\n",
       "      <td>2</td>\n",
       "      <td>AGI Greenpac Ltd.</td>\n",
       "      <td>1.86</td>\n",
       "      <td>1.86</td>\n",
       "      <td>1.86</td>\n",
       "      <td>1.86</td>\n",
       "      <td>1.86</td>\n",
       "      <td>49.68</td>\n",
       "      <td>abakkus-fund-sunil-singhania</td>\n",
       "    </tr>\n",
       "    <tr>\n",
       "      <th>2</th>\n",
       "      <td>3</td>\n",
       "      <td>Carysil Ltd.</td>\n",
       "      <td>-</td>\n",
       "      <td>6.14</td>\n",
       "      <td>6.14</td>\n",
       "      <td>6.14</td>\n",
       "      <td>6.05</td>\n",
       "      <td>95.77</td>\n",
       "      <td>abakkus-fund-sunil-singhania</td>\n",
       "    </tr>\n",
       "    <tr>\n",
       "      <th>3</th>\n",
       "      <td>4</td>\n",
       "      <td>DCM Shriram Industries Ltd.</td>\n",
       "      <td>2.98</td>\n",
       "      <td>2.98</td>\n",
       "      <td>2.98</td>\n",
       "      <td>2.98</td>\n",
       "      <td>2.98</td>\n",
       "      <td>18.13</td>\n",
       "      <td>abakkus-fund-sunil-singhania</td>\n",
       "    </tr>\n",
       "    <tr>\n",
       "      <th>4</th>\n",
       "      <td>5</td>\n",
       "      <td>H.G. Infra Engineering Ltd.</td>\n",
       "      <td>1.49</td>\n",
       "      <td>1.51</td>\n",
       "      <td>1.51</td>\n",
       "      <td>1.52</td>\n",
       "      <td>1.52</td>\n",
       "      <td>89.33</td>\n",
       "      <td>abakkus-fund-sunil-singhania</td>\n",
       "    </tr>\n",
       "  </tbody>\n",
       "</table>\n",
       "</div>"
      ],
      "text/plain": [
       "  S.No.                   Stock Name     _    q1    q2    q3    q4     q5  \\\n",
       "0     1               ADF Foods Ltd.  1.58  1.51     -  1.51  1.51  25.55   \n",
       "1     2            AGI Greenpac Ltd.  1.86  1.86  1.86  1.86  1.86  49.68   \n",
       "2     3                 Carysil Ltd.     -  6.14  6.14  6.14  6.05  95.77   \n",
       "3     4  DCM Shriram Industries Ltd.  2.98  2.98  2.98  2.98  2.98  18.13   \n",
       "4     5  H.G. Infra Engineering Ltd.  1.49  1.51  1.51  1.52  1.52  89.33   \n",
       "\n",
       "                          Value  \n",
       "0  abakkus-fund-sunil-singhania  \n",
       "1  abakkus-fund-sunil-singhania  \n",
       "2  abakkus-fund-sunil-singhania  \n",
       "3  abakkus-fund-sunil-singhania  \n",
       "4  abakkus-fund-sunil-singhania  "
      ]
     },
     "execution_count": 3,
     "metadata": {},
     "output_type": "execute_result"
    }
   ],
   "source": [
    "df.head()"
   ]
  },
  {
   "cell_type": "code",
   "execution_count": null,
   "metadata": {},
   "outputs": [],
   "source": []
  }
 ],
 "metadata": {
  "kernelspec": {
   "display_name": "mutual-fund",
   "language": "python",
   "name": "python3"
  },
  "language_info": {
   "codemirror_mode": {
    "name": "ipython",
    "version": 3
   },
   "file_extension": ".py",
   "mimetype": "text/x-python",
   "name": "python",
   "nbconvert_exporter": "python",
   "pygments_lexer": "ipython3",
   "version": "3.9.16"
  },
  "orig_nbformat": 4
 },
 "nbformat": 4,
 "nbformat_minor": 2
}
